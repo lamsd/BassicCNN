{
 "cells": [
  {
   "cell_type": "markdown",
   "id": "fd5e871e-26ec-4e71-8600-ed36bc8de707",
   "metadata": {},
   "source": [
    "#  Test the model for the system."
   ]
  },
  {
   "cell_type": "code",
   "execution_count": 1,
   "id": "60592cd1-6d88-4b5b-abc1-aa5fc30e65c5",
   "metadata": {},
   "outputs": [],
   "source": [
    "import numpy as np\n",
    "from keras.models import Sequential\n",
    "from keras.layers import Dense, Activation\n",
    "from keras.datasets import boston_housing\n",
    "import matplotlib.pyplot as plt"
   ]
  },
  {
   "cell_type": "code",
   "execution_count": 2,
   "id": "b042fab3-4c5e-4946-9ba4-af59f985504e",
   "metadata": {},
   "outputs": [],
   "source": [
    "(X_train, y_train), (X_test, y_test) = boston_housing.load_data()"
   ]
  },
  {
   "cell_type": "code",
   "execution_count": 3,
   "id": "7b3d4016-bb03-4539-a673-e35767baa6f3",
   "metadata": {},
   "outputs": [],
   "source": [
    "X_val = X_train[300:,]\n",
    "y_val = y_train[300:,]\n",
    "X_traind = X_train[:300,]\n",
    "y_traind = y_train[:300,]"
   ]
  },
  {
   "cell_type": "markdown",
   "id": "744335cd-7512-4cdb-b674-72ecf520f454",
   "metadata": {},
   "source": [
    "## Dingsinal defaullt models"
   ]
  },
  {
   "cell_type": "markdown",
   "id": "e3d7ffc2-1d4b-4ae1-a309-f343f5b54955",
   "metadata": {},
   "source": [
    "### Change the metrics in the compile functions."
   ]
  },
  {
   "cell_type": "code",
   "execution_count": 8,
   "id": "e59a7615-3458-4cc2-83d2-312e7f95588f",
   "metadata": {},
   "outputs": [
    {
     "name": "stdout",
     "output_type": "stream",
     "text": [
      "Model: \"sequential_1\"\n",
      "_________________________________________________________________\n",
      " Layer (type)                Output Shape              Param #   \n",
      "=================================================================\n",
      " dense_3 (Dense)             (None, 13)                182       \n",
      "                                                                 \n",
      " dense_4 (Dense)             (None, 6)                 84        \n",
      "                                                                 \n",
      " dense_5 (Dense)             (None, 1)                 7         \n",
      "                                                                 \n",
      "=================================================================\n",
      "Total params: 273\n",
      "Trainable params: 273\n",
      "Non-trainable params: 0\n",
      "_________________________________________________________________\n"
     ]
    },
    {
     "data": {
      "image/png": "[encoded data removed]",
      "text/plain": [
       "<Figure size 432x288 with 1 Axes>"
      ]
     },
     "metadata": {
      "needs_background": "light"
     },
     "output_type": "display_data"
    },
    {
     "name": "stdout",
     "output_type": "stream",
     "text": [
      "4/4 [==============================] - 0s 2ms/step - loss: 75.2512 - mean_absolute_percentage_error: 33.5306\n",
      "value:  loss : 75.2511978149414\n",
      "value:  mean_absolute_percentage_error : 33.530616760253906\n"
     ]
    }
   ],
   "source": [
    "model = Sequential()\n",
    "model.add(Dense(13, input_dim=13, kernel_initializer='normal', activation='relu'))\n",
    "model.add(Dense(6, kernel_initializer='normal', activation='relu'))\n",
    "model.add(Dense(1, kernel_initializer='normal'))\n",
    "model.compile(loss='mean_squared_error', optimizer='adam', metrics = ['mean_absolute_percentage_error'])\n",
    "model.summary()\n",
    "\n",
    "hist = model.fit(X_traind, y_traind, batch_size=32, epochs=30, validation_data=(X_val, y_val), verbose=0)\n",
    "\n",
    "plt.plot(hist.history['mean_absolute_percentage_error'])\n",
    "plt.plot(hist.history['val_mean_absolute_percentage_error'])\n",
    "plt.xlabel(\"epochs\")\n",
    "plt.ylabel(\"%\")\n",
    "plt.title(\"Mean Absolute % title\")\n",
    "plt.legend([\"train\", \"test\"], loc='upper left')\n",
    "plt.show()\n",
    "\n",
    "result = model.evaluate(X_test, y_test)\n",
    "for i in range(len(model.metrics_names)):\n",
    "    print(\"value: \", model.metrics_names[i], \":\", result[i])"
   ]
  },
  {
   "cell_type": "markdown",
   "id": "c3a557b5-7001-481c-bce6-0fd5f2fa529d",
   "metadata": {},
   "source": [
    "### The mean od the mean logarithmic_error"
   ]
  },
  {
   "cell_type": "code",
   "execution_count": 11,
   "id": "96ace620-3438-449e-a8e7-68f9f0fe9265",
   "metadata": {},
   "outputs": [
    {
     "name": "stdout",
     "output_type": "stream",
     "text": [
      "Model: \"sequential_4\"\n",
      "_________________________________________________________________\n",
      " Layer (type)                Output Shape              Param #   \n",
      "=================================================================\n",
      " dense_15 (Dense)            (None, 13)                182       \n",
      "                                                                 \n",
      " dense_16 (Dense)            (None, 6)                 84        \n",
      "                                                                 \n",
      " dense_17 (Dense)            (None, 1)                 7         \n",
      "                                                                 \n",
      "=================================================================\n",
      "Total params: 273\n",
      "Trainable params: 273\n",
      "Non-trainable params: 0\n",
      "_________________________________________________________________\n"
     ]
    },
    {
     "data": {
      "image/png": "[encoded data removed]",
      "text/plain": [
       "<Figure size 432x288 with 1 Axes>"
      ]
     },
     "metadata": {
      "needs_background": "light"
     },
     "output_type": "display_data"
    },
    {
     "name": "stdout",
     "output_type": "stream",
     "text": [
      "4/4 [==============================] - 0s 2ms/step - loss: 82.4007 - mean_squared_logarithmic_error: 0.1645\n",
      "value:  loss : 82.4007339477539\n",
      "value:  mean_squared_logarithmic_error : 0.1645137518644333\n"
     ]
    }
   ],
   "source": [
    "model = Sequential()\n",
    "model.add(Dense(13, input_dim=13, kernel_initializer='normal', activation='relu'))\n",
    "model.add(Dense(6, kernel_initializer='normal', activation='relu'))\n",
    "model.add(Dense(1, kernel_initializer='normal'))\n",
    "model.compile(loss='mean_squared_error', optimizer='adam', metrics = ['mean_squared_logarithmic_error'])\n",
    "model.summary()\n",
    "\n",
    "hist_mean_squared_logarithmic_error = model.fit(X_traind, y_traind, batch_size=32, epochs=30, validation_data=(X_val, y_val), verbose=0)\n",
    "\n",
    "plt.plot(hist_mean_squared_logarithmic_error.history['mean_squared_logarithmic_error'])\n",
    "plt.plot(hist_mean_squared_logarithmic_error.history['val_mean_squared_logarithmic_error'])\n",
    "plt.xlabel(\"epochs\")\n",
    "plt.ylabel(\"%\")\n",
    "plt.title(\"Mean Absolute % title\")\n",
    "plt.legend([\"train\", \"test\"], loc='upper left')\n",
    "plt.show()\n",
    "\n",
    "result = model.evaluate(X_test, y_test)\n",
    "for i in range(len(model.metrics_names)):\n",
    "    print(\"value: \", model.metrics_names[i], \":\", result[i])"
   ]
  },
  {
   "cell_type": "markdown",
   "id": "c57f5b51-f4ee-440f-a4a0-e59eb40d7413",
   "metadata": {},
   "source": [
    "### Mean squared error"
   ]
  },
  {
   "cell_type": "code",
   "execution_count": 12,
   "id": "066c5ee5-ef37-4f94-be7f-e2f277eebed3",
   "metadata": {},
   "outputs": [
    {
     "name": "stdout",
     "output_type": "stream",
     "text": [
      "Model: \"sequential_5\"\n",
      "_________________________________________________________________\n",
      " Layer (type)                Output Shape              Param #   \n",
      "=================================================================\n",
      " dense_18 (Dense)            (None, 13)                182       \n",
      "                                                                 \n",
      " dense_19 (Dense)            (None, 6)                 84        \n",
      "                                                                 \n",
      " dense_20 (Dense)            (None, 1)                 7         \n",
      "                                                                 \n",
      "=================================================================\n",
      "Total params: 273\n",
      "Trainable params: 273\n",
      "Non-trainable params: 0\n",
      "_________________________________________________________________\n"
     ]
    },
    {
     "data": {
      "image/png": "[encoded data removed]",
      "text/plain": [
       "<Figure size 432x288 with 1 Axes>"
      ]
     },
     "metadata": {
      "needs_background": "light"
     },
     "output_type": "display_data"
    },
    {
     "name": "stdout",
     "output_type": "stream",
     "text": [
      "4/4 [==============================] - 0s 2ms/step - loss: 68.5440 - mean_squared_error: 68.5440\n",
      "value:  loss : 68.54398345947266\n",
      "value:  mean_squared_error : 68.54398345947266\n"
     ]
    }
   ],
   "source": [
    "model = Sequential()\n",
    "model.add(Dense(13, input_dim=13, kernel_initializer='normal', activation='relu'))\n",
    "model.add(Dense(6, kernel_initializer='normal', activation='relu'))\n",
    "model.add(Dense(1, kernel_initializer='normal'))\n",
    "model.compile(loss='mean_squared_error', optimizer='adam', metrics = ['mean_squared_error'])\n",
    "model.summary()\n",
    "\n",
    "hist_mean_squared_error = model.fit(X_traind, y_traind, batch_size=32, epochs=30, validation_data=(X_val, y_val), verbose=0)\n",
    "\n",
    "plt.plot(hist_mean_squared_error.history['mean_squared_error'])\n",
    "plt.plot(hist_mean_squared_error.history['val_mean_squared_error'])\n",
    "plt.xlabel(\"epochs\")\n",
    "plt.ylabel(\"%\")\n",
    "plt.title(\"Mean Absolute % title\")\n",
    "plt.legend([\"train\", \"test\"], loc='upper left')\n",
    "plt.show()\n",
    "\n",
    "result = model.evaluate(X_test, y_test)\n",
    "for i in range(len(model.metrics_names)):\n",
    "    print(\"value: \", model.metrics_names[i], \":\", result[i])"
   ]
  },
  {
   "cell_type": "markdown",
   "id": "c0814bcc-a491-462b-826f-da5414398ecb",
   "metadata": {},
   "source": [
    "###  Root mean squared error"
   ]
  },
  {
   "cell_type": "code",
   "execution_count": 13,
   "id": "dbf73e7e-21e2-4e00-aed2-48568106f626",
   "metadata": {},
   "outputs": [
    {
     "name": "stdout",
     "output_type": "stream",
     "text": [
      "Model: \"sequential_6\"\n",
      "_________________________________________________________________\n",
      " Layer (type)                Output Shape              Param #   \n",
      "=================================================================\n",
      " dense_21 (Dense)            (None, 13)                182       \n",
      "                                                                 \n",
      " dense_22 (Dense)            (None, 6)                 84        \n",
      "                                                                 \n",
      " dense_23 (Dense)            (None, 1)                 7         \n",
      "                                                                 \n",
      "=================================================================\n",
      "Total params: 273\n",
      "Trainable params: 273\n",
      "Non-trainable params: 0\n",
      "_________________________________________________________________\n"
     ]
    },
    {
     "ename": "ValueError",
     "evalue": "in user code:\n\n    File \"C:\\Users\\LAMSD\\my_app\\lib\\site-packages\\keras\\engine\\training.py\", line 878, in train_function  *\n        return step_function(self, iterator)\n    File \"C:\\Users\\LAMSD\\my_app\\lib\\site-packages\\keras\\engine\\training.py\", line 867, in step_function  **\n        outputs = model.distribute_strategy.run(run_step, args=(data,))\n    File \"C:\\Users\\LAMSD\\my_app\\lib\\site-packages\\keras\\engine\\training.py\", line 860, in run_step  **\n        outputs = model.train_step(data)\n    File \"C:\\Users\\LAMSD\\my_app\\lib\\site-packages\\keras\\engine\\training.py\", line 817, in train_step\n        self.compiled_metrics.update_state(y, y_pred, sample_weight)\n    File \"C:\\Users\\LAMSD\\my_app\\lib\\site-packages\\keras\\engine\\compile_utils.py\", line 439, in update_state\n        self.build(y_pred, y_true)\n    File \"C:\\Users\\LAMSD\\my_app\\lib\\site-packages\\keras\\engine\\compile_utils.py\", line 359, in build\n        self._metrics = tf.__internal__.nest.map_structure_up_to(y_pred, self._get_metric_objects,\n    File \"C:\\Users\\LAMSD\\my_app\\lib\\site-packages\\keras\\engine\\compile_utils.py\", line 485, in _get_metric_objects\n        return [self._get_metric_object(m, y_t, y_p) for m in metrics]\n    File \"C:\\Users\\LAMSD\\my_app\\lib\\site-packages\\keras\\engine\\compile_utils.py\", line 485, in <listcomp>\n        return [self._get_metric_object(m, y_t, y_p) for m in metrics]\n    File \"C:\\Users\\LAMSD\\my_app\\lib\\site-packages\\keras\\engine\\compile_utils.py\", line 504, in _get_metric_object\n        metric_obj = metrics_mod.get(metric)\n    File \"C:\\Users\\LAMSD\\my_app\\lib\\site-packages\\keras\\metrics.py\", line 3785, in get\n        return deserialize(str(identifier))\n    File \"C:\\Users\\LAMSD\\my_app\\lib\\site-packages\\keras\\metrics.py\", line 3741, in deserialize\n        return deserialize_keras_object(\n    File \"C:\\Users\\LAMSD\\my_app\\lib\\site-packages\\keras\\utils\\generic_utils.py\", line 708, in deserialize_keras_object\n        raise ValueError(\n\n    ValueError: Unknown metric function: root_mean_squared_error. Please ensure this object is passed to the `custom_objects` argument. See https://www.tensorflow.org/guide/keras/save_and_serialize#registering_the_custom_object for details.\n",
     "output_type": "error",
     "traceback": [
      "\u001b[1;31m---------------------------------------------------------------------------\u001b[0m",
      "\u001b[1;31mValueError\u001b[0m                                Traceback (most recent call last)",
      "\u001b[1;32m~\\AppData\\Local\\Temp/ipykernel_17788/3702531809.py\u001b[0m in \u001b[0;36m<module>\u001b[1;34m\u001b[0m\n\u001b[0;32m      6\u001b[0m \u001b[0mmodel\u001b[0m\u001b[1;33m.\u001b[0m\u001b[0msummary\u001b[0m\u001b[1;33m(\u001b[0m\u001b[1;33m)\u001b[0m\u001b[1;33m\u001b[0m\u001b[1;33m\u001b[0m\u001b[0m\n\u001b[0;32m      7\u001b[0m \u001b[1;33m\u001b[0m\u001b[0m\n\u001b[1;32m----> 8\u001b[1;33m \u001b[0mhist_root_mean_squared_error\u001b[0m \u001b[1;33m=\u001b[0m \u001b[0mmodel\u001b[0m\u001b[1;33m.\u001b[0m\u001b[0mfit\u001b[0m\u001b[1;33m(\u001b[0m\u001b[0mX_traind\u001b[0m\u001b[1;33m,\u001b[0m \u001b[0my_traind\u001b[0m\u001b[1;33m,\u001b[0m \u001b[0mbatch_size\u001b[0m\u001b[1;33m=\u001b[0m\u001b[1;36m32\u001b[0m\u001b[1;33m,\u001b[0m \u001b[0mepochs\u001b[0m\u001b[1;33m=\u001b[0m\u001b[1;36m30\u001b[0m\u001b[1;33m,\u001b[0m \u001b[0mvalidation_data\u001b[0m\u001b[1;33m=\u001b[0m\u001b[1;33m(\u001b[0m\u001b[0mX_val\u001b[0m\u001b[1;33m,\u001b[0m \u001b[0my_val\u001b[0m\u001b[1;33m)\u001b[0m\u001b[1;33m,\u001b[0m \u001b[0mverbose\u001b[0m\u001b[1;33m=\u001b[0m\u001b[1;36m0\u001b[0m\u001b[1;33m)\u001b[0m\u001b[1;33m\u001b[0m\u001b[1;33m\u001b[0m\u001b[0m\n\u001b[0m\u001b[0;32m      9\u001b[0m \u001b[1;33m\u001b[0m\u001b[0m\n\u001b[0;32m     10\u001b[0m \u001b[0mplt\u001b[0m\u001b[1;33m.\u001b[0m\u001b[0mplot\u001b[0m\u001b[1;33m(\u001b[0m\u001b[0mhist_root_mean_squared_error\u001b[0m\u001b[1;33m.\u001b[0m\u001b[0mhistory\u001b[0m\u001b[1;33m[\u001b[0m\u001b[1;34m'root_mean_squared_error'\u001b[0m\u001b[1;33m]\u001b[0m\u001b[1;33m)\u001b[0m\u001b[1;33m\u001b[0m\u001b[1;33m\u001b[0m\u001b[0m\n",
      "\u001b[1;32m~\\my_app\\lib\\site-packages\\keras\\utils\\traceback_utils.py\u001b[0m in \u001b[0;36merror_handler\u001b[1;34m(*args, **kwargs)\u001b[0m\n\u001b[0;32m     65\u001b[0m     \u001b[1;32mexcept\u001b[0m \u001b[0mException\u001b[0m \u001b[1;32mas\u001b[0m \u001b[0me\u001b[0m\u001b[1;33m:\u001b[0m  \u001b[1;31m# pylint: disable=broad-except\u001b[0m\u001b[1;33m\u001b[0m\u001b[1;33m\u001b[0m\u001b[0m\n\u001b[0;32m     66\u001b[0m       \u001b[0mfiltered_tb\u001b[0m \u001b[1;33m=\u001b[0m \u001b[0m_process_traceback_frames\u001b[0m\u001b[1;33m(\u001b[0m\u001b[0me\u001b[0m\u001b[1;33m.\u001b[0m\u001b[0m__traceback__\u001b[0m\u001b[1;33m)\u001b[0m\u001b[1;33m\u001b[0m\u001b[1;33m\u001b[0m\u001b[0m\n\u001b[1;32m---> 67\u001b[1;33m       \u001b[1;32mraise\u001b[0m \u001b[0me\u001b[0m\u001b[1;33m.\u001b[0m\u001b[0mwith_traceback\u001b[0m\u001b[1;33m(\u001b[0m\u001b[0mfiltered_tb\u001b[0m\u001b[1;33m)\u001b[0m \u001b[1;32mfrom\u001b[0m \u001b[1;32mNone\u001b[0m\u001b[1;33m\u001b[0m\u001b[1;33m\u001b[0m\u001b[0m\n\u001b[0m\u001b[0;32m     68\u001b[0m     \u001b[1;32mfinally\u001b[0m\u001b[1;33m:\u001b[0m\u001b[1;33m\u001b[0m\u001b[1;33m\u001b[0m\u001b[0m\n\u001b[0;32m     69\u001b[0m       \u001b[1;32mdel\u001b[0m \u001b[0mfiltered_tb\u001b[0m\u001b[1;33m\u001b[0m\u001b[1;33m\u001b[0m\u001b[0m\n",
      "\u001b[1;32m~\\my_app\\lib\\site-packages\\tensorflow\\python\\framework\\func_graph.py\u001b[0m in \u001b[0;36mautograph_handler\u001b[1;34m(*args, **kwargs)\u001b[0m\n\u001b[0;32m   1127\u001b[0m           \u001b[1;32mexcept\u001b[0m \u001b[0mException\u001b[0m \u001b[1;32mas\u001b[0m \u001b[0me\u001b[0m\u001b[1;33m:\u001b[0m  \u001b[1;31m# pylint:disable=broad-except\u001b[0m\u001b[1;33m\u001b[0m\u001b[1;33m\u001b[0m\u001b[0m\n\u001b[0;32m   1128\u001b[0m             \u001b[1;32mif\u001b[0m \u001b[0mhasattr\u001b[0m\u001b[1;33m(\u001b[0m\u001b[0me\u001b[0m\u001b[1;33m,\u001b[0m \u001b[1;34m\"ag_error_metadata\"\u001b[0m\u001b[1;33m)\u001b[0m\u001b[1;33m:\u001b[0m\u001b[1;33m\u001b[0m\u001b[1;33m\u001b[0m\u001b[0m\n\u001b[1;32m-> 1129\u001b[1;33m               \u001b[1;32mraise\u001b[0m \u001b[0me\u001b[0m\u001b[1;33m.\u001b[0m\u001b[0mag_error_metadata\u001b[0m\u001b[1;33m.\u001b[0m\u001b[0mto_exception\u001b[0m\u001b[1;33m(\u001b[0m\u001b[0me\u001b[0m\u001b[1;33m)\u001b[0m\u001b[1;33m\u001b[0m\u001b[1;33m\u001b[0m\u001b[0m\n\u001b[0m\u001b[0;32m   1130\u001b[0m             \u001b[1;32melse\u001b[0m\u001b[1;33m:\u001b[0m\u001b[1;33m\u001b[0m\u001b[1;33m\u001b[0m\u001b[0m\n\u001b[0;32m   1131\u001b[0m               \u001b[1;32mraise\u001b[0m\u001b[1;33m\u001b[0m\u001b[1;33m\u001b[0m\u001b[0m\n",
      "\u001b[1;31mValueError\u001b[0m: in user code:\n\n    File \"C:\\Users\\LAMSD\\my_app\\lib\\site-packages\\keras\\engine\\training.py\", line 878, in train_function  *\n        return step_function(self, iterator)\n    File \"C:\\Users\\LAMSD\\my_app\\lib\\site-packages\\keras\\engine\\training.py\", line 867, in step_function  **\n        outputs = model.distribute_strategy.run(run_step, args=(data,))\n    File \"C:\\Users\\LAMSD\\my_app\\lib\\site-packages\\keras\\engine\\training.py\", line 860, in run_step  **\n        outputs = model.train_step(data)\n    File \"C:\\Users\\LAMSD\\my_app\\lib\\site-packages\\keras\\engine\\training.py\", line 817, in train_step\n        self.compiled_metrics.update_state(y, y_pred, sample_weight)\n    File \"C:\\Users\\LAMSD\\my_app\\lib\\site-packages\\keras\\engine\\compile_utils.py\", line 439, in update_state\n        self.build(y_pred, y_true)\n    File \"C:\\Users\\LAMSD\\my_app\\lib\\site-packages\\keras\\engine\\compile_utils.py\", line 359, in build\n        self._metrics = tf.__internal__.nest.map_structure_up_to(y_pred, self._get_metric_objects,\n    File \"C:\\Users\\LAMSD\\my_app\\lib\\site-packages\\keras\\engine\\compile_utils.py\", line 485, in _get_metric_objects\n        return [self._get_metric_object(m, y_t, y_p) for m in metrics]\n    File \"C:\\Users\\LAMSD\\my_app\\lib\\site-packages\\keras\\engine\\compile_utils.py\", line 485, in <listcomp>\n        return [self._get_metric_object(m, y_t, y_p) for m in metrics]\n    File \"C:\\Users\\LAMSD\\my_app\\lib\\site-packages\\keras\\engine\\compile_utils.py\", line 504, in _get_metric_object\n        metric_obj = metrics_mod.get(metric)\n    File \"C:\\Users\\LAMSD\\my_app\\lib\\site-packages\\keras\\metrics.py\", line 3785, in get\n        return deserialize(str(identifier))\n    File \"C:\\Users\\LAMSD\\my_app\\lib\\site-packages\\keras\\metrics.py\", line 3741, in deserialize\n        return deserialize_keras_object(\n    File \"C:\\Users\\LAMSD\\my_app\\lib\\site-packages\\keras\\utils\\generic_utils.py\", line 708, in deserialize_keras_object\n        raise ValueError(\n\n    ValueError: Unknown metric function: root_mean_squared_error. Please ensure this object is passed to the `custom_objects` argument. See https://www.tensorflow.org/guide/keras/save_and_serialize#registering_the_custom_object for details.\n"
     ]
    }
   ],
   "source": [
    "model = Sequential()\n",
    "model.add(Dense(13, input_dim=13, kernel_initializer='normal', activation='relu'))\n",
    "model.add(Dense(6, kernel_initializer='normal', activation='relu'))\n",
    "model.add(Dense(1, kernel_initializer='normal'))\n",
    "model.compile(loss='mean_squared_error', optimizer='adam', metrics = ['root_mean_squared_error'])\n",
    "model.summary()\n",
    "\n",
    "hist_root_mean_squared_error = model.fit(X_traind, y_traind, batch_size=32, epochs=30, validation_data=(X_val, y_val), verbose=0)\n",
    "\n",
    "plt.plot(hist_root_mean_squared_error.history['root_mean_squared_error'])\n",
    "plt.plot(hist_root_mean_squared_error.history['val_root_mean_squared_error'])\n",
    "plt.xlabel(\"epochs\")\n",
    "plt.ylabel(\"%\")\n",
    "plt.title(\"Mean Absolute % title\")\n",
    "plt.legend([\"train\", \"test\"], loc='upper left')\n",
    "plt.show()\n",
    "\n",
    "result = model.evaluate(X_test, y_test)\n",
    "for i in range(len(model.metrics_names)):\n",
    "    print(\"value: \", model.metrics_names[i], \":\", result[i])"
   ]
  },
  {
   "cell_type": "markdown",
   "id": "441915fb-3ac5-417f-b629-681f92c83483",
   "metadata": {},
   "source": [
    "### Mean squared logarithmic error"
   ]
  },
  {
   "cell_type": "code",
   "execution_count": 14,
   "id": "1345820a-b368-4759-b7a1-ad0d97d1fb31",
   "metadata": {},
   "outputs": [
    {
     "name": "stdout",
     "output_type": "stream",
     "text": [
      "Model: \"sequential_7\"\n",
      "_________________________________________________________________\n",
      " Layer (type)                Output Shape              Param #   \n",
      "=================================================================\n",
      " dense_24 (Dense)            (None, 13)                182       \n",
      "                                                                 \n",
      " dense_25 (Dense)            (None, 6)                 84        \n",
      "                                                                 \n",
      " dense_26 (Dense)            (None, 1)                 7         \n",
      "                                                                 \n",
      "=================================================================\n",
      "Total params: 273\n",
      "Trainable params: 273\n",
      "Non-trainable params: 0\n",
      "_________________________________________________________________\n"
     ]
    },
    {
     "data": {
      "image/png": "[encoded data removed]",
      "text/plain": [
       "<Figure size 432x288 with 1 Axes>"
      ]
     },
     "metadata": {
      "needs_background": "light"
     },
     "output_type": "display_data"
    },
    {
     "name": "stdout",
     "output_type": "stream",
     "text": [
      "4/4 [==============================] - 0s 4ms/step - loss: 74.1603 - mean_squared_logarithmic_error: 0.1442\n",
      "value:  loss : 74.16029357910156\n",
      "value:  mean_squared_logarithmic_error : 0.14424912631511688\n"
     ]
    }
   ],
   "source": [
    "model = Sequential()\n",
    "model.add(Dense(13, input_dim=13, kernel_initializer='normal', activation='relu'))\n",
    "model.add(Dense(6, kernel_initializer='normal', activation='relu'))\n",
    "model.add(Dense(1, kernel_initializer='normal'))\n",
    "model.compile(loss='mean_squared_error', optimizer='adam', metrics = ['mean_squared_logarithmic_error'])\n",
    "model.summary()\n",
    "\n",
    "hist_mean_squared_logarithmic_error = model.fit(X_traind, y_traind, batch_size=32, epochs=30, validation_data=(X_val, y_val), verbose=0)\n",
    "\n",
    "plt.plot(hist_mean_squared_logarithmic_error.history['mean_squared_logarithmic_error'])\n",
    "plt.plot(hist_mean_squared_logarithmic_error.history['val_mean_squared_logarithmic_error'])\n",
    "plt.xlabel(\"epochs\")\n",
    "plt.ylabel(\"%\")\n",
    "plt.title(\"Mean Absolute % title\")\n",
    "plt.legend([\"train\", \"test\"], loc='upper left')\n",
    "plt.show()\n",
    "\n",
    "result = model.evaluate(X_test, y_test)\n",
    "for i in range(len(model.metrics_names)):\n",
    "    print(\"value: \", model.metrics_names[i], \":\", result[i])"
   ]
  },
  {
   "cell_type": "markdown",
   "id": "1da1b1cd-f834-4cf2-9978-fffd2fc8b534",
   "metadata": {},
   "source": [
    "### Cosine similarity"
   ]
  },
  {
   "cell_type": "code",
   "execution_count": 15,
   "id": "7f8b88aa-2049-497c-a49d-0b1a3993e43d",
   "metadata": {},
   "outputs": [
    {
     "name": "stdout",
     "output_type": "stream",
     "text": [
      "Model: \"sequential_8\"\n",
      "_________________________________________________________________\n",
      " Layer (type)                Output Shape              Param #   \n",
      "=================================================================\n",
      " dense_27 (Dense)            (None, 13)                182       \n",
      "                                                                 \n",
      " dense_28 (Dense)            (None, 6)                 84        \n",
      "                                                                 \n",
      " dense_29 (Dense)            (None, 1)                 7         \n",
      "                                                                 \n",
      "=================================================================\n",
      "Total params: 273\n",
      "Trainable params: 273\n",
      "Non-trainable params: 0\n",
      "_________________________________________________________________\n"
     ]
    },
    {
     "data": {
      "image/png": "[encoded data removed]",
      "text/plain": [
       "<Figure size 432x288 with 1 Axes>"
      ]
     },
     "metadata": {
      "needs_background": "light"
     },
     "output_type": "display_data"
    },
    {
     "name": "stdout",
     "output_type": "stream",
     "text": [
      "4/4 [==============================] - 0s 2ms/step - loss: 68.1897 - cosine_similarity: 1.0000\n",
      "value:  loss : 68.18972778320312\n",
      "value:  cosine_similarity : 1.0\n"
     ]
    }
   ],
   "source": [
    "model = Sequential()\n",
    "model.add(Dense(13, input_dim=13, kernel_initializer='normal', activation='relu'))\n",
    "model.add(Dense(6, kernel_initializer='normal', activation='relu'))\n",
    "model.add(Dense(1, kernel_initializer='normal'))\n",
    "model.compile(loss='mean_squared_error', optimizer='adam', metrics = ['cosine_similarity'])\n",
    "model.summary()\n",
    "\n",
    "hist_cosine_similarity = model.fit(X_traind, y_traind, batch_size=32, epochs=30, validation_data=(X_val, y_val), verbose=0)\n",
    "\n",
    "plt.plot(hist_cosine_similarity.history['cosine_similarity'])\n",
    "plt.plot(hist_cosine_similarity.history['val_cosine_similarity'])\n",
    "plt.xlabel(\"epochs\")\n",
    "plt.ylabel(\"%\")\n",
    "plt.title(\"Mean Absolute % title\")\n",
    "plt.legend([\"train\", \"test\"], loc='upper left')\n",
    "plt.show()\n",
    "\n",
    "result = model.evaluate(X_test, y_test)\n",
    "for i in range(len(model.metrics_names)):\n",
    "    print(\"value: \", model.metrics_names[i], \":\", result[i])"
   ]
  },
  {
   "cell_type": "markdown",
   "id": "996095b9-10ad-4aca-8dcd-590996e8106e",
   "metadata": {},
   "source": [
    "### log cosh"
   ]
  },
  {
   "cell_type": "code",
   "execution_count": null,
   "id": "487d3597-542e-4f3c-a1cd-27526436aad5",
   "metadata": {},
   "outputs": [],
   "source": [
    "model = Sequential()\n",
    "model.add(Dense(13, input_dim=13, kernel_initializer='normal', activation='relu'))\n",
    "model.add(Dense(6, kernel_initializer='normal', activation='relu'))\n",
    "model.add(Dense(1, kernel_initializer='normal'))\n",
    "model.compile(loss='mean_squared_error', optimizer='adam', metrics = ['logcosh'])\n",
    "model.summary()\n",
    "\n",
    "hist_logcosh = model.fit(X_traind, y_traind, batch_size=32, epochs=30, validation_data=(X_val, y_val), verbose=0)\n",
    "\n",
    "plt.plot(hist_logcosh.history['logcosh'])\n",
    "plt.plot(hist_logcosh.history['val_logcosh'])\n",
    "plt.xlabel(\"epochs\")\n",
    "plt.ylabel(\"%\")\n",
    "plt.title(\"Mean Absolute % title\")\n",
    "plt.legend([\"train\", \"test\"], loc='upper left')\n",
    "plt.show()\n",
    "\n",
    "result = model.evaluate(X_test, y_test)\n",
    "for i in range(len(model.metrics_names)):\n",
    "    print(\"value: \", model.metrics_names[i], \":\", result[i])"
   ]
  }
 ],
 "metadata": {
  "kernelspec": {
   "display_name": "Python 3 (ipykernel)",
   "language": "python",
   "name": "python3"
  },
  "language_info": {
   "codemirror_mode": {
    "name": "ipython",
    "version": 3
   },
   "file_extension": ".py",
   "mimetype": "text/x-python",
   "name": "python",
   "nbconvert_exporter": "python",
   "pygments_lexer": "ipython3",
   "version": "3.8.10"
  }
 },
 "nbformat": 4,
 "nbformat_minor": 5
}
