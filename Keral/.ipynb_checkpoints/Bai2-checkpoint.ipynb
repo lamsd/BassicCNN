{
 "cells": [
  {
   "cell_type": "code",
   "execution_count": 10,
   "id": "63711e46-252c-47ca-b0eb-5d7d54a43d8f",
   "metadata": {},
   "outputs": [],
   "source": [
    "from tensorflow.keras.models import Sequential\n",
    "from tensorflow.keras.layers import Dense, Activation\n",
    "import matplotlib.pyplot as plt"
   ]
  },
  {
   "cell_type": "code",
   "execution_count": 3,
   "id": "fd60657b-a660-466d-a87f-1ba07fccb32f",
   "metadata": {},
   "outputs": [
    {
     "name": "stdout",
     "output_type": "stream",
     "text": [
      "Model: \"sequential_1\"\n",
      "_________________________________________________________________\n",
      " Layer (type)                Output Shape              Param #   \n",
      "=================================================================\n",
      " dense_3 (Dense)             (None, 32)                352       \n",
      "                                                                 \n",
      " dense_4 (Dense)             (None, 16)                528       \n",
      "                                                                 \n",
      " dense_5 (Dense)             (None, 1)                 17        \n",
      "                                                                 \n",
      "=================================================================\n",
      "Total params: 897\n",
      "Trainable params: 897\n",
      "Non-trainable params: 0\n",
      "_________________________________________________________________\n"
     ]
    }
   ],
   "source": [
    "model = Sequential()\n",
    "model.add(Dense(32, input_dim=10, activation=\"relu\"))\n",
    "model.add(Dense(16, activation=\"relu\"))\n",
    "model.add(Dense(1, activation=\"sigmoid\"))\n",
    "\n",
    "model.compile(optimizer=\"adam\", loss=\"binary_crossentropy\", metrics=[\"accuracy\"])\n",
    "model.summary()"
   ]
  },
  {
   "cell_type": "code",
   "execution_count": 4,
   "id": "8048a36b-ca10-43b0-a15d-f1d488697f72",
   "metadata": {},
   "outputs": [],
   "source": [
    "import numpy as np"
   ]
  },
  {
   "cell_type": "code",
   "execution_count": 5,
   "id": "a5e84849-874e-4d79-a74c-63023cd4741f",
   "metadata": {},
   "outputs": [],
   "source": [
    "np.random.seed(2018)\n",
    "\n",
    "x_train = np.random.random((6000, 10))\n",
    "y_train = np.random.randint(2, size=(6000, 1))\n",
    "\n",
    "x_val = np.random.random((2000, 10))\n",
    "y_val = np.random.randint(2, size=(2000, 1))\n",
    "\n",
    "x_test = np.random.random((2000, 10))\n",
    "y_test = np.random.randint(2, size=(2000, 1))"
   ]
  },
  {
   "cell_type": "code",
   "execution_count": 6,
   "id": "f39d594e-7fcd-4eb2-bced-10d6d0619c83",
   "metadata": {},
   "outputs": [
    {
     "name": "stdout",
     "output_type": "stream",
     "text": [
      "Model: \"sequential_2\"\n",
      "_________________________________________________________________\n",
      " Layer (type)                Output Shape              Param #   \n",
      "=================================================================\n",
      " dense_6 (Dense)             (None, 64)                704       \n",
      "                                                                 \n",
      " dense_7 (Dense)             (None, 32)                2080      \n",
      "                                                                 \n",
      " dense_8 (Dense)             (None, 16)                528       \n",
      "                                                                 \n",
      " dense_9 (Dense)             (None, 8)                 136       \n",
      "                                                                 \n",
      " dense_10 (Dense)            (None, 8)                 72        \n",
      "                                                                 \n",
      " dense_11 (Dense)            (None, 1)                 9         \n",
      "                                                                 \n",
      "=================================================================\n",
      "Total params: 3,529\n",
      "Trainable params: 3,529\n",
      "Non-trainable params: 0\n",
      "_________________________________________________________________\n"
     ]
    }
   ],
   "source": [
    "model = Sequential()\n",
    "model.add(Dense(64, input_dim=10, activation=\"relu\"))\n",
    "model.add(Dense(32, activation=\"relu\"))\n",
    "model.add(Dense(16, activation=\"relu\"))\n",
    "model.add(Dense(8, activation=\"relu\"))\n",
    "model.add(Dense(8, activation=\"relu\"))\n",
    "model.add(Dense(1, activation=\"sigmoid\"))\n",
    "\n",
    "model.compile(optimizer=\"adam\", loss=\"binary_crossentropy\", metrics=[\"accuracy\"])\n",
    "model.summary()"
   ]
  },
  {
   "cell_type": "code",
   "execution_count": 13,
   "id": "714d3a13-a080-4c63-b4b9-2f8d1708a494",
   "metadata": {},
   "outputs": [],
   "source": [
    "history = model.fit(x_train, y_train, batch_size=64, epochs=1000, validation_data=(x_val, y_val), verbose=0)"
   ]
  },
  {
   "cell_type": "code",
   "execution_count": 14,
   "id": "3ad783ba-1e48-4f6d-9d6c-c0c903b5cb8f",
   "metadata": {},
   "outputs": [
    {
     "data": {
      "image/png": "[encoded data removed]",
      "text/plain": [
       "<Figure size 432x288 with 1 Axes>"
      ]
     },
     "metadata": {
      "needs_background": "light"
     },
     "output_type": "display_data"
    }
   ],
   "source": [
    "plt.plot(history.history['accuracy'])\n",
    "plt.plot(history.history['val_accuracy'])\n",
    "plt.xlabel(\"epochs\")\n",
    "plt.ylabel(\"accuracy\")\n",
    "plt.title(\"Accuracy title\")\n",
    "plt.legend([\"train\", \"test\"], loc='upper left')\n",
    "plt.show()"
   ]
  },
  {
   "cell_type": "code",
   "execution_count": 15,
   "id": "f9fbecad-3ffb-425b-8cd8-253b8642228a",
   "metadata": {},
   "outputs": [
    {
     "data": {
      "image/png": "[encoded data removed]",
      "text/plain": [
       "<Figure size 432x288 with 1 Axes>"
      ]
     },
     "metadata": {
      "needs_background": "light"
     },
     "output_type": "display_data"
    }
   ],
   "source": [
    "plt.plot(history.history['loss'])\n",
    "plt.plot(history.history['val_loss'])\n",
    "plt.xlabel(\"epochs\")\n",
    "plt.ylabel(\"Loss\")\n",
    "plt.title(\"Loss title\")\n",
    "plt.legend([\"train\", \"test\"], loc='upper left')\n",
    "plt.show()"
   ]
  },
  {
   "cell_type": "code",
   "execution_count": 16,
   "id": "3931ef3c-f843-4e5d-a41f-4634bfc6cae5",
   "metadata": {},
   "outputs": [],
   "source": [
    "model.save(\"weight/model_bai2.h5\")"
   ]
  },
  {
   "cell_type": "code",
   "execution_count": 17,
   "id": "eefb27cd-c659-4592-9ee5-0226c6512e92",
   "metadata": {},
   "outputs": [
    {
     "name": "stdout",
     "output_type": "stream",
     "text": [
      "63/63 [==============================] - 0s 3ms/step - loss: 5.6984 - accuracy: 0.5050\n"
     ]
    },
    {
     "data": {
      "text/plain": [
       "[5.69842529296875, 0.5049999952316284]"
      ]
     },
     "execution_count": 17,
     "metadata": {},
     "output_type": "execute_result"
    }
   ],
   "source": [
    "model.evaluate(x_test, y_test)"
   ]
  },
  {
   "cell_type": "code",
   "execution_count": 39,
   "id": "3a8e37c3-02bb-4f02-ab18-26b25871867d",
   "metadata": {},
   "outputs": [],
   "source": [
    "pred = model.predict(x_test)"
   ]
  },
  {
   "cell_type": "code",
   "execution_count": 48,
   "id": "102713b0-90e3-479e-952f-d3ac53c2784c",
   "metadata": {},
   "outputs": [],
   "source": [
    "N = 2000\n",
    "data_pred = pred[0:N].copy()\n",
    "data_test = y_test[0:N].copy()"
   ]
  },
  {
   "cell_type": "code",
   "execution_count": 49,
   "id": "8ba129a6-de01-42dd-87f4-df42a77417f0",
   "metadata": {},
   "outputs": [],
   "source": [
    "data_sample = np.zeros((N, 1))"
   ]
  },
  {
   "cell_type": "code",
   "execution_count": 50,
   "id": "e3acfc95-a98e-43cc-ae9f-bd66eb44c3b2",
   "metadata": {},
   "outputs": [],
   "source": [
    "data_pred[data_pred < 0.5]=0\n",
    "data_pred[data_pred >= 0.5]=1\n",
    "data_sample[data_pred == data_test] = 2"
   ]
  },
  {
   "cell_type": "code",
   "execution_count": 51,
   "id": "fcdf1f1b-4189-4aeb-9450-c9a3b3e61b92",
   "metadata": {},
   "outputs": [
    {
     "name": "stdout",
     "output_type": "stream",
     "text": [
      "1010 - 0.505 %\n"
     ]
    }
   ],
   "source": [
    "x = data_sample[data_sample==2].shape\n",
    "\n",
    "print(\"{} - {} %\".format(x[0], x[0]/N))"
   ]
  },
  {
   "cell_type": "markdown",
   "id": "08f4266f-5fcb-4908-9b81-2bf3c1ce6dbe",
   "metadata": {},
   "source": [
    "## Result for self-valutate and model-valuate is simularly."
   ]
  },
  {
   "cell_type": "code",
   "execution_count": null,
   "id": "4f475c9a-3a02-45fc-aec8-11546017eaaf",
   "metadata": {},
   "outputs": [],
   "source": []
  }
 ],
 "metadata": {
  "kernelspec": {
   "display_name": "Python 3 (ipykernel)",
   "language": "python",
   "name": "python3"
  },
  "language_info": {
   "codemirror_mode": {
    "name": "ipython",
    "version": 3
   },
   "file_extension": ".py",
   "mimetype": "text/x-python",
   "name": "python",
   "nbconvert_exporter": "python",
   "pygments_lexer": "ipython3",
   "version": "3.8.10"
  }
 },
 "nbformat": 4,
 "nbformat_minor": 5
}
