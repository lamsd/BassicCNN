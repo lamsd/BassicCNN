{
 "cells": [
  {
   "cell_type": "markdown",
   "id": "674290fa-4db8-4322-baa7-e7b6e2f95432",
   "metadata": {},
   "source": [
    "# Convolutional Neural Networks"
   ]
  },
  {
   "cell_type": "markdown",
   "id": "95201c83-189b-4423-9c6e-b7cf1da9b6bd",
   "metadata": {},
   "source": [
    "## Architecture Overview."
   ]
  },
  {
   "cell_type": "markdown",
   "id": "02cd1ed4-2706-4d92-9438-6275becd17fb",
   "metadata": {},
   "source": [
    "Recall: RNN: Neural Networks receive an input and transform it through a series of hidden layers. Each hidden layer is made up of a set of neurons, where each neuron is fully connected to all  neurons in the previous layer, and where neurons in a single layer function completely independetly and do net share any connections. The las fully-connected layer is called the \"output layer\" and in classification settings it represent the class scores.\n",
    "\n",
    "RNNs don't scale well  to full images.\n",
    "- Of size 32x32x3 is 32 wide, 32 high, 3 color channels.\n",
    "- This full connectivity is wasteful and the huge number of parameters would quickly lead to overfitting.\n",
    "\n",
    "3D volumes of neurons: CNNN take advatage of the fact that the input consistes of images and they constrain the architecture in a more sensible way. The layers of a ConvNet have neurons arranged in 3 dimensions: with, height, depth. The neurons in layer will only be connected to a small  region of the layer before it, instead of all of the neurons in fully-connected manner. \n",
    "![image](Image/21.jpeg)"
   ]
  },
  {
   "cell_type": "markdown",
   "id": "dc53c9bf-5692-4258-a1d0-ad561cc1cbba",
   "metadata": {},
   "source": [
    "## Layers used to build ConvNets."
   ]
  },
  {
   "cell_type": "markdown",
   "id": "4418a496-e210-4219-926f-c6072be97df7",
   "metadata": {},
   "source": [
    "We use three main types of layers to build ConvNet architectures: Convolutional Layer, Pooling Layer, Fully-Connected Layer.\n",
    "\n",
    "Example Architecture: Using to  CIFAR-10 classification with  [INPUT- CONV - RELU - POOL - RC].\n",
    "- INPUT [32x32x3] will hold the raw pixel values of the image. In this case an image of width  32 , heigh 32 and 3 color channels(R, G, B).\n",
    "- CONV layer will compute the output of neurons that are connected to local regions in the input, each computing a dot product between their weights and a small  region they are connecte to in the input volume. This may resul in volume such as [32x32x12] if we decided to use 12 filters.\n",
    "- RELU  layer will apply an elementwise activation function, such as the **max(0, x)** thresholding at zero. This leaves the size of the volume unchanged([32x32x12]).\n",
    "- POOL layer will  perform a downsampling operation along the spatial dimensions (width, heigh), resulting in volume such as [16x16x12]\n",
    "- FC layer will compute the class scores , return of size([1x1x10]), where each of the 10 numbers correspond to a class score, such as among the 10 categories of CIFAR-10.\n",
    "ConcNets transform the original image layer from the original pixel  values to the final class scores.  Note that some layers contain parameters and other don’t. The parameters in the CONV/FC layers will be trained with gradient descent so that the class scores that the ConvNet computes are consistent with the labels in the training set for each image. \n",
    "\n",
    "In summerary:\n",
    "- A list of Layers that tranform the image volume into an output volume.\n",
    "- There are a few distinct types of Layers (e.g. CONV/FC/RELU/POOL are by far the most popular).\n",
    "- Each Layer accepts an input 3D volume and transforms it to an output 3D volume through a differentiable function.\n",
    "- Each Layer may or may not have parameters (e.g. CONV/FC do, RELU/POOL don’t).\n",
    "- Each Layer may or may not have additional hyperparameters (e.g. CONV/FC/POOL do, RELU doesn’t). \n",
    "\n",
    "![image](Image/22.jpeg)"
   ]
  },
  {
   "cell_type": "markdown",
   "id": "3324b067-d2d6-439f-be1a-355813121b22",
   "metadata": {},
   "source": [
    "## Convolutional Layer."
   ]
  },
  {
   "cell_type": "markdown",
   "id": "f37762ce-2603-4e26-9c03-3406fec0d618",
   "metadata": {},
   "source": [
    "The CONV layer computes without brain/neuron analogies. The CONV layer's parameter consist of a ser of learnable filters. Every filter is small  spatially (along width and height), but extends through the full  depth of the input volume. A typical filter on a first layer  of a ConvNet might have size 5x5x3(5 pixels width  and height, vaf 3 color channels). At each layers, we slice each filter across  the width and height of the input  volume and cimpute dot products between the entries of the filter and the input at any position.  Now, we will have an entire set of filters in each CONV layer (e.g. 12 filters), and each of them will produce a separate 2-dimensional activation map. We will stack these activation maps along the depth dimension and produce the output volume.\n",
    "\n",
    "**The brain view**.Every entry in the 3D output volume can also be interpreted as an output of a neuron that looks at only a small region in the input and shares parameters with all neurons to the left and right spatially (since these numbers all result from applying the same filter).\n",
    "\n",
    "**Local Connectivity.** .We will connect ech neuron to only  a local region of the input volume. The spatial  extent of this connectivity is a hyperpareter called the **receptive field** of the neuron. \n",
    "The extent of the connectivity along the depth axis is always equal to the depth of the input volume. It is important to emphasize again this asymmetry in how we treat the spatial dimensions (width and height) and the depth dimension: The connections are local in 2D space (along width and height), but always full along the entire depth of the input volume.\n",
    "\n",
    "Example 1. For example, suppose that the input volume has size [32x32x3], (e.g. an RGB CIFAR-10 image). If the receptive field (or the filter size) is 5x5, then each neuron in the Conv Layer will have weights to a [5x5x3] region in the input volume, for a total of 5*5*3 = 75 weights (and +1 bias parameter). Notice that the extent of the connectivity along the depth axis must be 3, since this is the depth of the input volume.\n",
    "![Image](Image/23.jpeg)\n",
    "![Image](Image/24.jpeg)"
   ]
  },
  {
   "cell_type": "markdown",
   "id": "6f127bb7-fa44-4611-a3d2-546cab5c03ce",
   "metadata": {},
   "source": [
    "**Spatial arrangement**. Three hyperparameters control the size of the output volume: the depth, stride, and zero-padding.\n",
    "1. First, the depth of the output volume is a hyperparameter. It corresponds to the number of filters we would like to use, each learning to look for something different in the input. We will refer to a set of neurons that are all looking at the same region of the input as a depth column (some people also prefer the term fibre).\n",
    "2. Second, we must specify the stride with which we slide the filter. When the stride is 1 then we move the filters one pixel at a time.\n",
    "3. Sometimes it will be convenient to pad the input volume with zeros around the border. he size of this zero-padding is a hyperparameter. The nice feature of zero padding is that it will allow us to control the spatial size of the output volumes (most commonly as we’ll see soon we will use it to exactly preserve the spatial size of the input volume so the input and output width and height are the same).\n",
    "\n",
    "Commention:\n",
    "\n",
    "- **W**: a function of the input volume size.\n",
    "- **F**: the receptive field size of the Conv Layer neurons.\n",
    "- **S**: the stride with which they are applied.\n",
    "- **P**:  the amount of zero padding used on the border\n",
    "\n",
    "The correct formula for calculating how many neurons “fit”:\n",
    "$$\\frac{W-F+2P}{S}+1$$"
   ]
  },
  {
   "cell_type": "markdown",
   "id": "e47408b2-6efd-42fa-8c5c-59895dfbc09f",
   "metadata": {},
   "source": [
    "**Use of zero-padding.** In the example above on left, note that the input dimension was 5 and the output dimension was equal: also 5. \n",
    "\n",
    "**Constraints on strides.** Note again that the spatial arrangement hyperparameters have mutual constraints. \n",
    "\n",
    "**Parameter Sharing** : scheme is used in Convolutional Layer to control  the number of paramater. \n",
    "\n",
    "**Numpy example** : To make the discussion  above more concrete, lets express the ideas but in code and with  a specfic example. Suppose that the input volume is a numpy array X. Then. \n",
    "- A depth column (or a fibre) at position (x,y) would be the activations X[x,y,:].\n",
    "- A depth slice, or equivalently an activation map at depth d would be the activations X[:,:,d]."
   ]
  },
  {
   "cell_type": "markdown",
   "id": "e1ee27c9-a609-4786-b563-9dd480847acc",
   "metadata": {},
   "source": [
    "## Summary: To summerize, the Conv Layer:\n",
    "1. Accepts a volume of size $W_{1}×H_{1}×D_{1}$\n",
    "2. Requires four hyperparameters:\n",
    "- Number of filters K,\n",
    "- their spatial extent F,\n",
    "- the stride S,\n",
    "- the amount of zero padding P.\n",
    "\n",
    "3. Produces a volume of size $W_{2}×H_{2}×D_{2}$ where:\n",
    "- $W_{2}=(W_{1}−F+2P)/S+1$\n",
    "- $H_{2}=(H_{1}−F+2P)/S+1$ (i.e. width and height are computed equally by symmetry)\n",
    "- $D_{2}=K$\n",
    "\n",
    "4. With parameter sharing, it introduces $F⋅F⋅D_{1}$ weights per filter, for a total of ($F⋅F⋅D_{1}$)⋅K weights and K biases.\n",
    "5. In the output volume, the d-th depth slice (of size $W_{2}×H_{2}$) is the result of performing a valid convolution of the d-th filter over the input volume with a stride of S, and then offset by d-th bias.\n",
    "\n",
    "A common setting of the hyperparameters is F=3,S=1,P=1. However, there are common conventions and rules of thumb that motivate these hyperparameters. See the ConvNet architectures section below."
   ]
  },
  {
   "cell_type": "markdown",
   "id": "ee963f2c-9e24-4410-9898-7bd199ae8b7b",
   "metadata": {},
   "source": [
    "**Convolution Demo.** Below is a running demo of a CONV layer. Since 3D volumes are hard to visualize, all the volumes (the input volume (in blue), the weight volumes (in red), the output volume (in green)) are visualized with each depth slice stacked in rows. The input volume is of size $W_{1}=5,H_{1}=5,D_{1}=3$, and the CONV layer parameters are K=2,F=3,S=2,P=1. That is, we have two filters of size 3×3, and they are applied with a stride of 2. Therefore, the output volume size has spatial size (5 - 3 + 2)/2 + 1 = 3. Moreover, notice that a padding of P=1 is applied to the input volume, making the outer border of the input volume zero. The visualization below iterates over the output activations (green), and shows that each element is computed by elementwise multiplying the highlighted input (blue) with the filter (red), summing it up, and then offsetting the result by the bias."
   ]
  },
  {
   "cell_type": "markdown",
   "id": "453df2b8-1e31-4097-b7a8-fa3bc844130a",
   "metadata": {},
   "source": [
    "**Implementation as Matrix Multiplication.** Note that the convolution operation essentially performs dot products between the filters and local regions of the input. A common implementation pattern of the CONV layer is to take advantage of this fact and formulate the forward pass of a convolutional layer as one big matrix multiply as follows:\n",
    "\n",
    "1. The local regions in the input image are stretched out into columns in an operation commonly called im2col. For example, if the input is [227x227x3] and it is to be convolved with 11x11x3 filters at stride 4, then we would take [11x11x3] blocks of pixels in the input and stretch each block into a column vector of size 11*11*3 = 363. Iterating this process in the input at stride of 4 gives (227-11)/4+1 = 55 locations along both width and height, leading to an output matrix X_col of im2col of size [363 x 3025], where every column is a stretched out receptive field and there are 55*55 = 3025 of them in total. Note that since the receptive fields overlap, every number in the input volume may be duplicated in multiple distinct columns.\n",
    "2. The weights of the CONV layer are similarly stretched out into rows. For example, if there are 96 filters of size [11x11x3] this would give a matrix W_row of size [96 x 363].\n",
    "3. The result of a convolution is now equivalent to performing one large matrix multiply np.dot(W_row, X_col), which evaluates the dot product between every filter and every receptive field location. In our example, the output of this operation would be [96 x 3025], giving the output of the dot product of each filter at each location.\n",
    "4. The result must finally be reshaped back to its proper output dimension [55x55x96].\n",
    "\n",
    "This approach has the downside that it can use a lot of memory, since some values in the input volume are replicated multiple times in X_col. However, the benefit is that there are many very efficient implementations of Matrix Multiplication that we can take advantage of (for example, in the commonly used BLAS API). Moreover, the same im2col idea can be reused to perform the pooling operation, which we discuss next.\n",
    "\n",
    "Backpropagation. The backward pass for a convolution operation (for both the data and the weights) is also a convolution (but with spatially-flipped filters). This is easy to derive in the 1-dimensional case with a toy example (not expanded on for now).\n",
    "\n",
    "1x1 convolution. As an aside, several papers use 1x1 convolutions, as first investigated by Network in Network. Some people are at first confused to see 1x1 convolutions especially when they come from signal processing background. Normally signals are 2-dimensional so 1x1 convolutions do not make sense (it’s just pointwise scaling). However, in ConvNets this is not the case because one must remember that we operate over 3-dimensional volumes, and that the filters always extend through the full depth of the input volume. For example, if the input is [32x32x3] then doing 1x1 convolutions would effectively be doing 3-dimensional dot products (since the input depth is 3 channels).\n",
    "\n",
    "Dilated convolutions. A recent development (e.g. see paper by Fisher Yu and Vladlen Koltun) is to introduce one more hyperparameter to the CONV layer called the dilation. So far we’ve only discussed CONV filters that are contiguous. However, it’s possible to have filters that have spaces between each cell, called dilation. As an example, in one dimension a filter w of size 3 would compute over input x the following: w[0]*x[0] + w[1]*x[1] + w[2]*x[2]. This is dilation of 0. For dilation 1 the filter would instead compute w[0]*x[0] + w[1]*x[2] + w[2]*x[4]; In other words there is a gap of 1 between the applications. This can be very useful in some settings to use in conjunction with 0-dilated filters because it allows you to merge spatial information across the inputs much more agressively with fewer layers. For example, if you stack two 3x3 CONV layers on top of each other then you can convince yourself that the neurons on the 2nd layer are a function of a 5x5 patch of the input (we would say that the effective receptive field of these neurons is 5x5). If we use dilated convolutions then this effective receptive field would grow much quicker."
   ]
  },
  {
   "cell_type": "markdown",
   "id": "63d4f8af-7d35-46f0-9f89-6acc95308455",
   "metadata": {},
   "source": [
    "## Pooling Layer:\n",
    "It is common to periodically insert a Pooling layer in-between successive Conv layers in a ConvNet architecture. Its function is to progressively reduce the spatial size of the representation to reduce the amount of parameters and computation in the network, and hence to also control overfitting. The Pooling Layer operates independently on every depth slice of the input and resizes it spatially, using the MAX operation. The most common form is a pooling layer with filters of size 2x2 applied with a stride of 2 downsamples every depth slice in the input by 2 along both width and height, discarding 75% of the activations. Every MAX operation would in this case be taking a max over 4 numbers (little 2x2 region in some depth slice). The depth dimension remains unchanged. More generally, the pooling layer:\n",
    "1. Accepts a volume of size $W_{1}×H_{1}×D_{1}$\n",
    "2. Requires two hyperparameters: \n",
    "- their spatial extent F,\n",
    "- the stride S,\n",
    "3. Produces a volume of size $W_{2}×H_{2}×D_{2}$ where: \n",
    "- $W_{2}=\\frac{(W_{1}−F)}{S}+1$\n",
    "- $H_{2}=(H_{1}−F)/S+1$\n",
    "- $D_{2} = D_{1}$\n",
    "4. Introduces zero parameters since it computes a fixed function of the input.\n",
    "5. For Pooling layers, it is not common to pad the input using zero-padding."
   ]
  },
  {
   "cell_type": "markdown",
   "id": "520b0088-2ad4-4fec-9f0e-de9ed691de4c",
   "metadata": {},
   "source": [
    "It is worth noting that there are only two commonly seen variations of the max pooling layer found in practice: A pooling layer with F=3,S=2 (also called overlapping pooling), and more commonly F=2,S=2. Pooling sizes with larger receptive fields are too destructive.\n",
    "\n",
    "**General pooling.** In addition to max pooling, the pooling units can also perform other functions, such as average pooling or even L2-norm pooling. Average pooling was often used historically but has recently fallen out of favor compared to the max pooling operation, which has been shown to work better in practice\n",
    "![Image](Image/25.jpeg)\n",
    "\n",
    "Pooling layer downsamples the volume spatially, independently in each depth slice of the input volume. Left: In this example, the input volume of size [224x224x64] is pooled with filter size 2, stride 2 into output volume of size [112x112x64]. Notice that the volume depth is preserved. Right: The most common downsampling operation is max, giving rise to max pooling, here shown with a stride of 2. That is, each max is taken over 4 numbers (little 2x2 square). "
   ]
  },
  {
   "cell_type": "markdown",
   "id": "7d1a5e55-4b30-4f94-b93b-750004679be1",
   "metadata": {},
   "source": [
    "**Backpropagation**. Recall from the backpropagation chapter that the backward pass for a max(x, y) operation has a simple interpretation as only routing the gradient to the input that had the highest value in the forward pass. Hence, during the forward pass of a pooling layer it is common to keep track of the index of the max activation (sometimes also called the switches) so that gradient routing is efficient during backpropagation.\n",
    "\n",
    "**Getting rid of pooling.** Many people dislike the pooling operation and think that we can get away without it. For example, Striving for Simplicity: The All Convolutional Net proposes to discard the pooling layer in favor of architecture that only consists of repeated CONV layers. To reduce the size of the representation they suggest using larger stride in CONV layer once in a while. Discarding pooling layers has also been found to be important in training good generative models, such as variational autoencoders (VAEs) or generative adversarial networks (GANs). It seems likely that future architectures will feature very few to no pooling layers.\n",
    "\n",
    "## Normalization Layer\n",
    "\n",
    "Many types of normalization layers have been proposed for use in ConvNet architectures, sometimes with the intentions of implementing inhibition schemes observed in the biological brain. However, these layers have since fallen out of favor because in practice their contribution has been shown to be minimal, if any. For various types of normalizations, see the discussion in Alex Krizhevsky’s cuda-convnet library API.\n",
    "\n",
    "## Fully-connected layer\n",
    "\n",
    "Neurons in a fully connected layer have full connections to all activations in the previous layer, as seen in regular Neural Networks. Their activations can hence be computed with a matrix multiplication followed by a bias offset. See the Neural Network section of the notes for more information.\n",
    "\n",
    "## Converting FC layers to CONV layers\n",
    "\n",
    "It is worth noting that the only difference between FC and CONV layers is that the neurons in the CONV layer are connected only to a local region in the input, and that many of the neurons in a CONV volume share parameters. However, the neurons in both layers still compute dot products, so their functional form is identical. Therefore, it turns out that it’s possible to convert between FC and CONV layers:\n",
    "- For any CONV layer there is an FC layer that implements the same forward function. The weight matrix would be a large matrix that is mostly zero except for at certain blocks (due to local connectivity) where the weights in many of the blocks are equal (due to parameter sharing).\n",
    "- Conversely, any FC layer can be converted to a CONV layer. For example, an FC layer with K=4096 that is looking at some input volume of size 7×7×512 can be equivalently expressed as a CONV layer with F=7,P=0,S=1,K=4096. In other words, we are setting the filter size to be exactly the size of the input volume, and hence the output will simply be 1×1×4096 since only a single depth column “fits” across the input volume, giving identical result as the initial FC layer."
   ]
  },
  {
   "cell_type": "markdown",
   "id": "9ec79ef8-cb83-4841-ab01-0f7d53878461",
   "metadata": {},
   "source": [
    "**FC->CONV conversion.** Of these two conversions, the ability to convert an FC layer to a CONV layer is particularly useful in practice. Consider a ConvNet architecture that takes a 224x224x3 image, and then uses a series of CONV layers and POOL layers to reduce the image to an activations volume of size 7x7x512 (in an AlexNet architecture that we’ll see later, this is done by use of 5 pooling layers that downsample the input spatially by a factor of two each time, making the final spatial size 224/2/2/2/2/2 = 7). From there, an AlexNet uses two FC layers of size 4096 and finally the last FC layers with 1000 neurons that compute the class scores. We can convert each of these three FC layers to CONV layers as described above:\n",
    "\n",
    "- Replace the first FC layer that looks at [7x7x512] volume with a CONV layer that uses filter size F=7 , giving output volume [1x1x4096].\n",
    "- Replace the second FC layer with a CONV layer that uses filter size F=1, giving output volume [1x1x4096]\n",
    "- Replace the last FC layer similarly, with F=1, giving final output [1x1x1000]\n",
    "\n",
    "Each of these conversions could in practice involve manipulating (e.g. reshaping) the weight matrix Win each FC layer into CONV layer filters. It turns out that this conversion allows us to “slide” the original ConvNet very efficiently across many spatial positions in a larger image, in a single forward pass.\n",
    "\n",
    "For example, if 224x224 image gives a volume of size [7x7x512] - i.e. a reduction by 32, then forwarding an image of size 384x384 through the converted architecture would give the equivalent volume in size [12x12x512], since 384/32 = 12. Following through with the next 3 CONV layers that we just converted from FC layers would now give the final volume of size [6x6x1000], since (12 - 7)/1 + 1 = 6. Note that instead of a single vector of class scores of size [1x1x1000], we’re now getting an entire 6x6 array of class scores across the 384x384 image.\n",
    "-  Evaluating the original ConvNet (with FC layers) independently across 224x224 crops of the 384x384 image in strides of 32 pixels gives an identical result to forwarding the converted ConvNet one time.\n",
    "\n",
    "Naturally, forwarding the converted ConvNet a single time is much more efficient than iterating the original ConvNet over all those 36 locations, since the 36 evaluations share computation. This trick is often used in practice to get better performance, where for example, it is common to resize an image to make it bigger, use a converted ConvNet to evaluate the class scores at many spatial positions and then average the class scores.\n",
    "\n",
    "Lastly, what if we wanted to efficiently apply the original ConvNet over the image but at a stride smaller than 32 pixels? We could achieve this with multiple forward passes. For example, note that if we wanted to use a stride of 16 pixels we could do so by combining the volumes received by forwarding the converted ConvNet twice: First over the original image and second over the image but with the image shifted spatially by 16 pixels along both width and height.\n",
    "\n",
    "- An IPython Notebook on Net Surgery shows how to perform the conversion in practice, in code (using Caffe)\n"
   ]
  },
  {
   "cell_type": "markdown",
   "id": "c37bd1dc-5e09-4dfa-ab84-1ccfe1cdeb2d",
   "metadata": {},
   "source": [
    "## Layer Patterns\n",
    "\n",
    "The most common form of a ConvNet architecture stacks a few CONV-RELU layers, follows them with POOL layers, and repeats this pattern until the image has been merged spatially to a small size. At some point, it is common to transition to fully-connected layers. The last fully-connected layer holds the output, such as the class scores. In other words, the most common ConvNet architecture follows the pattern:\n",
    "\n",
    "INPUT -> [[CONV -> RELU]*N -> POOL?]*M -> [FC -> RELU]*K -> FC\n",
    "\n",
    "where the * indicates repetition, and the POOL? indicates an optional pooling layer. Moreover, N >= 0 (and usually N <= 3), M >= 0, K >= 0 (and usually K < 3). For example, here are some common ConvNet architectures you may see that follow this pattern:\n",
    "\n",
    "- INPUT -> FC, implements a linear classifier. Here N = M = K = 0.\n",
    "- INPUT -> CONV -> RELU -> FC\n",
    "- INPUT -> [CONV -> RELU -> POOL]*2 -> FC -> RELU -> FC. Here we see that there is a single CONV layer between every POOL layer.\n",
    "- INPUT -> [CONV -> RELU -> CONV -> RELU -> POOL]*3 -> [FC -> RELU]*2 -> FC Here we see two CONV layers stacked before every POOL layer. This is generally a good idea for larger and deeper networks, because multiple stacked CONV layers can develop more complex features of the input volume before the destructive pooling operation.\n",
    "\n",
    "**Prefer a stack of small filter CONV to one large receptive field CONV layer**. Suppose that you stack three 3x3 CONV layers on top of each other (with non-linearities in between, of course). In this arrangement, each neuron on the first CONV layer has a 3x3 view of the input volume. A neuron on the second CONV layer has a 3x3 view of the first CONV layer, and hence by extension a 5x5 view of the input volume. Similarly, a neuron on the third CONV layer has a 3x3 view of the 2nd CONV layer, and hence a 7x7 view of the input volume. Suppose that instead of these three layers of 3x3 CONV, we only wanted to use a single CONV layer with 7x7 receptive fields. These neurons would have a receptive field size of the input volume that is identical in spatial extent (7x7), but with several disadvantages. First, the neurons would be computing a linear function over the input, while the three stacks of CONV layers contain non-linearities that make their features more expressive. Second, if we suppose that all the volumes have C\n",
    "channels, then it can be seen that the single 7x7 CONV layer would contain C×(7×7×C)=49C2 parameters, while the three 3x3 CONV layers would only contain 3×(C×(3×3×C))=27C2\n",
    "\n",
    "parameters. Intuitively, stacking CONV layers with tiny filters as opposed to having one CONV layer with big filters allows us to express more powerful features of the input, and with fewer parameters. As a practical disadvantage, we might need more memory to hold all the intermediate CONV layer results if we plan to do backpropagation.\n",
    "\n",
    "**Recent departures**. It should be noted that the conventional paradigm of a linear list of layers has recently been challenged, in Google’s Inception architectures and also in current (state of the art) Residual Networks from Microsoft Research Asia. Both of these (see details below in case studies section) feature more intricate and different connectivity structures.\n",
    "\n",
    "**In practice: use whatever works best on ImageNet.** If you’re feeling a bit of a fatigue in thinking about the architectural decisions, you’ll be pleased to know that in 90% or more of applications you should not have to worry about these. I like to summarize this point as “don’t be a hero”: Instead of rolling your own architecture for a problem, you should look at whatever architecture currently works best on ImageNet, download a pretrained model and finetune it on your data. You should rarely ever have to train a ConvNet from scratch or design one from scratch. I also made this point at the Deep Learning school."
   ]
  },
  {
   "cell_type": "markdown",
   "id": "e02e32b5-44e4-43b4-b85a-9631b9797708",
   "metadata": {},
   "source": [
    "## Layer Sizing Patterns\n",
    "\n",
    "Until now we’ve omitted mentions of common hyperparameters used in each of the layers in a ConvNet. We will first state the common rules of thumb for sizing the architectures and then follow the rules with a discussion of the notation:\n",
    "\n",
    "The **input layer** (that contains the image) should be divisible by 2 many times. Common numbers include 32 (e.g. CIFAR-10), 64, 96 (e.g. STL-10), or 224 (e.g. common ImageNet ConvNets), 384, and 512.\n",
    "\n",
    "The **conv layers** should be using small filters (e.g. 3x3 or at most 5x5), using a stride of S=1, and crucially, padding the input volume with zeros in such way that the conv layer does not alter the spatial dimensions of the input. That is, when F=3, then using P=1 will retain the original size of the input. When F=5, P=2. For a general F, it can be seen that P=(F−1)/2 preserves the input size. If you must use bigger filter sizes (such as 7x7 or so), it is only common to see this on the very first conv layer that is looking at the input image.\n",
    "\n",
    "The **pool layers** are in charge of downsampling the spatial dimensions of the input. The most common setting is to use max-pooling with 2x2 receptive fields (i.e. F=2), and with a stride of 2 (i.e. S=2). Note that this discards exactly 75% of the activations in an input volume (due to downsampling by 2 in both width and height). Another slightly less common setting is to use 3x3 receptive fields with a stride of 2, but this makes “fitting” more complicated (e.g., a 32x32x3 layer would require zero padding to be used with a max-pooling layer with 3x3 receptive field and stride 2). It is very uncommon to see receptive field sizes for max pooling that are larger than 3 because the pooling is then too lossy and aggressive. This usually leads to worse performance.\n",
    "\n",
    "**Reducing sizing headaches.** The scheme presented above is pleasing because all the CONV layers preserve the spatial size of their input, while the POOL layers alone are in charge of down-sampling the volumes spatially. In an alternative scheme where we use strides greater than 1 or don’t zero-pad the input in CONV layers, we would have to very carefully keep track of the input volumes throughout the CNN architecture and make sure that all strides and filters “work out”, and that the ConvNet architecture is nicely and symmetrically wired.\n",
    "\n",
    "** Smaller strides work better in practice.** Additionally, as already mentioned stride 1 allows us to leave all spatial down-sampling to the POOL layers, with the CONV layers only transforming the input volume depth-wise.\n",
    "\n",
    "**Why use padding?** In addition to the aforementioned benefit of keeping the spatial sizes constant after CONV, doing this actually improves performance. If the CONV layers were to not zero-pad the inputs and only perform valid convolutions, then the size of the volumes would reduce by a small amount after each CONV, and the information at the borders would be “washed away” too quickly.\n",
    "\n",
    "**Compromising based on memory constraints.** In some cases (especially early in the ConvNet architectures), the amount of memory can build up very quickly with the rules of thumb presented above. For example, filtering a 224x224x3 image with three 3x3 CONV layers with 64 filters each and padding 1 would create three activation volumes of size [224x224x64]. This amounts to a total of about 10 million activations, or 72MB of memory (per image, for both activations and gradients). Since GPUs are often bottlenecked by memory, it may be necessary to compromise. In practice, people prefer to make the compromise at only the first CONV layer of the network. For example, one compromise might be to use a first CONV layer with filter sizes of 7x7 and stride of 2 (as seen in a ZF net). As another example, an AlexNet uses filter sizes of 11x11 and stride of 4."
   ]
  },
  {
   "cell_type": "markdown",
   "id": "787554b8-b00a-4a9e-9420-db88f186cc36",
   "metadata": {},
   "source": [
    "## Case studies\n",
    "\n",
    "There are several architectures in the field of Convolutional Networks that have a name. The most common are:\n",
    "\n",
    "- **LeNet.** The first successful applications of Convolutional Networks were developed by Yann LeCun in 1990’s. Of these, the best known is the LeNet architecture that was used to read zip codes, digits, etc.\n",
    "- **AlexNet.** The first work that popularized Convolutional Networks in Computer Vision was the AlexNet, developed by Alex Krizhevsky, Ilya Sutskever and Geoff Hinton. The AlexNet was submitted to the ImageNet ILSVRC challenge in 2012 and significantly outperformed the second runner-up (top 5 error of 16% compared to runner-up with 26% error). The Network had a very similar architecture to LeNet, but was deeper, bigger, and featured Convolutional Layers stacked on top of each other (previously it was common to only have a single CONV layer always immediately followed by a POOL layer).\n",
    "- **ZF Net.** The ILSVRC 2013 winner was a Convolutional Network from Matthew Zeiler and Rob Fergus. It became known as the ZFNet (short for Zeiler & Fergus Net). It was an improvement on AlexNet by tweaking the architecture hyperparameters, in particular by expanding the size of the middle convolutional layers and making the stride and filter size on the first layer smaller.\n",
    "- **GoogLeNet.** The ILSVRC 2014 winner was a Convolutional Network from Szegedy et al. from Google. Its main contribution was the development of an Inception Module that dramatically reduced the number of parameters in the network (4M, compared to AlexNet with 60M). Additionally, this paper uses Average Pooling instead of Fully Connected layers at the top of the ConvNet, eliminating a large amount of parameters that do not seem to matter much. There are also several followup versions to the GoogLeNet, most recently Inception-v4.\n",
    "- **VGGNet.** The runner-up in ILSVRC 2014 was the network from Karen Simonyan and Andrew Zisserman that became known as the VGGNet. Its main contribution was in showing that the depth of the network is a critical component for good performance. Their final best network contains 16 CONV/FC layers and, appealingly, features an extremely homogeneous architecture that only performs 3x3 convolutions and 2x2 pooling from the beginning to the end. Their pretrained model is available for plug and play use in Caffe. A downside of the VGGNet is that it is more expensive to evaluate and uses a lot more memory and parameters (140M). Most of these parameters are in the first fully connected layer, and it was since found that these FC layers can be removed with no performance downgrade, significantly reducing the number of necessary parameters.\n",
    "- **ResNet.** Residual Network developed by Kaiming He et al. was the winner of ILSVRC 2015. It features special skip connections and a heavy use of batch normalization. The architecture is also missing fully connected layers at the end of the network. The reader is also referred to Kaiming’s presentation (video, slides), and some recent experiments that reproduce these networks in Torch. ResNets are currently by far state of the art Convolutional Neural Network models and are the default choice for using ConvNets in practice (as of May 10, 2016). In particular, also see more recent developments that tweak the original architecture from Kaiming He et al. Identity Mappings in Deep Residual Networks (published March 2016).\n"
   ]
  },
  {
   "cell_type": "markdown",
   "id": "27dd3fb4-e657-4bdc-ad70-8bb4e2654da6",
   "metadata": {},
   "source": [
    "**VGGNet in detail. **Lets break down the VGGNet in more detail as a case study. The whole VGGNet is composed of CONV layers that perform 3x3 convolutions with stride 1 and pad 1, and of POOL layers that perform 2x2 max pooling with stride 2 (and no padding). We can write out the size of the representation at each step of the processing and keep track of both the representation size and the total number of weights:"
   ]
  },
  {
   "cell_type": "markdown",
   "id": "77642c20-89b2-46e3-baa4-fcff1ee2d7d5",
   "metadata": {},
   "source": [
    "```yaml\n",
    "INPUT: [224x224x3]        memory:  224*224*3=150K   weights: 0\n",
    "CONV3-64: [224x224x64]  memory:  224*224*64=3.2M   weights: (3*3*3)*64 = 1,728\n",
    "CONV3-64: [224x224x64]  memory:  224*224*64=3.2M   weights: (3*3*64)*64 = 36,864\n",
    "POOL2: [112x112x64]  memory:  112*112*64=800K   weights: 0\n",
    "CONV3-128: [112x112x128]  memory:  112*112*128=1.6M   weights: (3*3*64)*128 = 73,728\n",
    "CONV3-128: [112x112x128]  memory:  112*112*128=1.6M   weights: (3*3*128)*128 = 147,456\n",
    "POOL2: [56x56x128]  memory:  56*56*128=400K   weights: 0\n",
    "CONV3-256: [56x56x256]  memory:  56*56*256=800K   weights: (3*3*128)*256 = 294,912\n",
    "CONV3-256: [56x56x256]  memory:  56*56*256=800K   weights: (3*3*256)*256 = 589,824\n",
    "CONV3-256: [56x56x256]  memory:  56*56*256=800K   weights: (3*3*256)*256 = 589,824\n",
    "POOL2: [28x28x256]  memory:  28*28*256=200K   weights: 0\n",
    "CONV3-512: [28x28x512]  memory:  28*28*512=400K   weights: (3*3*256)*512 = 1,179,648\n",
    "CONV3-512: [28x28x512]  memory:  28*28*512=400K   weights: (3*3*512)*512 = 2,359,296\n",
    "CONV3-512: [28x28x512]  memory:  28*28*512=400K   weights: (3*3*512)*512 = 2,359,296\n",
    "POOL2: [14x14x512]  memory:  14*14*512=100K   weights: 0\n",
    "CONV3-512: [14x14x512]  memory:  14*14*512=100K   weights: (3*3*512)*512 = 2,359,296\n",
    "CONV3-512: [14x14x512]  memory:  14*14*512=100K   weights: (3*3*512)*512 = 2,359,296\n",
    "CONV3-512: [14x14x512]  memory:  14*14*512=100K   weights: (3*3*512)*512 = 2,359,296\n",
    "POOL2: [7x7x512]  memory:  7*7*512=25K  weights: 0\n",
    "FC: [1x1x4096]  memory:  4096  weights: 7*7*512*4096 = 102,760,448\n",
    "FC: [1x1x4096]  memory:  4096  weights: 4096*4096 = 16,777,216\n",
    "FC: [1x1x1000]  memory:  1000 weights: 4096*1000 = 4,096,000\n",
    "\n",
    "TOTAL memory: 24M * 4 bytes ~= 93MB / image (only forward! ~*2 for bwd)\n",
    "TOTAL params: 138M parameters\n",
    "```\n",
    "\n",
    "As is common with Convolutional Networks, notice that most of the memory (and also compute time) is used in the early CONV layers, and that most of the parameters are in the last FC layers. In this particular case, the first FC layer contains 100M weights, out of a total of 140M."
   ]
  },
  {
   "cell_type": "code",
   "execution_count": null,
   "id": "6b29030c-b868-4555-9686-e88363c21edc",
   "metadata": {},
   "outputs": [],
   "source": []
  }
 ],
 "metadata": {
  "kernelspec": {
   "display_name": "Python 3 (ipykernel)",
   "language": "python",
   "name": "python3"
  },
  "language_info": {
   "codemirror_mode": {
    "name": "ipython",
    "version": 3
   },
   "file_extension": ".py",
   "mimetype": "text/x-python",
   "name": "python",
   "nbconvert_exporter": "python",
   "pygments_lexer": "ipython3",
   "version": "3.8.10"
  }
 },
 "nbformat": 4,
 "nbformat_minor": 5
}
