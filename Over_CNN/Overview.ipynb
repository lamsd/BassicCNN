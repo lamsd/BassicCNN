{
 "cells": [
  {
   "cell_type": "markdown",
   "id": "0cb2641a-75b0-4c21-9da2-0d9a53dc6bdd",
   "metadata": {},
   "source": [
    "# Introduction to Convolutional Neural Networks(CNNs)"
   ]
  },
  {
   "cell_type": "markdown",
   "id": "54832acb-ac84-4f74-ae5c-2cee8b09074d",
   "metadata": {},
   "source": [
    "## Introduction:"
   ]
  },
  {
   "cell_type": "markdown",
   "id": "2e3ecfbd-43c7-4ab7-8db7-fb604f1026e9",
   "metadata": {},
   "source": [
    "In the past  few decades, to handle large amounts of data. With hidden layer has surpassed traditional  techniques. \n",
    "![image](Image/1.png)\n",
    "At the heart of AlexNet was CNNs in 2012. "
   ]
  },
  {
   "cell_type": "markdown",
   "id": "86a2c487-ba1a-4925-b3fc-f410a5137367",
   "metadata": {},
   "source": [
    "## Background of CNNs"
   ]
  },
  {
   "cell_type": "markdown",
   "id": "af322d03-8a4a-4c0d-ae0c-30aceba25c5f",
   "metadata": {},
   "source": [
    "This was a major drawback for CNNs at that period and hence CNNs were only limited to the postal sectors and it failed to enter the world of machine learning.\n",
    "![image](Image/2.jpeg)\n",
    "\n",
    "The availability of large sets of data, to be more specific ImageNet datasets with millions of labeled images and an abundance of computing resources enabled researchers to revive CNNs."
   ]
  },
  {
   "cell_type": "markdown",
   "id": "07b1d34c-ef67-4976-b216-e99ce27c3b7a",
   "metadata": {},
   "source": [
    "## What exactly is a CNN?\n",
    "In deep learning, a CNN is a class of deep neural networks, most commonly applied to analyze visual imagery. Now when we think of a neural network we think about matrix multiplications but that is not the case with ConvNet. \n",
    "\n",
    "![image](Image/3.png)\n",
    "\n",
    "Bottom line is that the role of the ConvNet is to reduce the images into a form that is easier to process, without losing features that are critical for getting a good prediction."
   ]
  },
  {
   "cell_type": "markdown",
   "id": "d8a0103f-9ac1-402d-8f30-3013b101f012",
   "metadata": {},
   "source": [
    "## How does it work?\n",
    "1. what is an image and how is it represented?\n",
    "\n",
    "An RGB image is nothing but a matrix of pixel values having three planes whereas a grayscale image is the same but it has a single plane. Take a look at this image to understand more\n",
    "\n",
    "![image](Image/4.png)\n",
    "\n",
    "Grayscale images will understand with CNNs work.\n",
    "\n",
    "![Image](Image/5.png)\n",
    "\n",
    "Where:\n",
    "- Kernel(3x3 matrix), this convert the input image to the convolved feature. This convelved feature is passed on to the next layer.\n",
    "\n",
    "![image](Image/6.gif)\n",
    "\n",
    "- With RGB color:\n",
    "![image](Image/7.gif)\n"
   ]
  },
  {
   "cell_type": "markdown",
   "id": "1cd370cd-9b10-4aa4-902a-44cf33eab969",
   "metadata": {},
   "source": [
    "CCNs are composed of multiple layers of artificial neurons. Artificial neurons, a rough imitation of their biological counterparts, are mathematical functions that calculate the weighted sum of multiple inputs and outputs an activation value. When you input an image in a ConvNet, each layer generates several activation functions that are passed on to the next layer.\n",
    "\n",
    "- The first layer usually extracts basic features such as horizontal or  diagonal  edges.\n",
    "- Passed on to the next layer which detects more complex features such as corners or combinational edges.\n",
    "- We move deeper into the network it can identify even more complex features such as objects, faces, etc\n",
    "\n",
    "![image](Image/8.jpg)\n"
   ]
  },
  {
   "cell_type": "markdown",
   "id": "814f4f5e-769c-455a-a291-b1f82c4ab666",
   "metadata": {},
   "source": [
    "Based on the activation map of the final convolution layer, the classification layer outputs a set of confidence scores (values between 0 and 1) that specify how likely the image is to belong to a “class.” For instance, if you have a ConvNet that detects cats, dogs, and horses, the output of the final layer is the possibility that the input image contains any of those animals.\n",
    "\n",
    "![image](Image/9.png)"
   ]
  },
  {
   "cell_type": "markdown",
   "id": "df3fc22a-5cf6-4f0f-96dc-8ae5a8178de4",
   "metadata": {},
   "source": [
    "## What's a pooling layer?\n",
    "Similar to the Convolutional Layer, the Pooling layer is responsible for reducing the spatial size of the Convolved Feature. This is to decrease the computational power required to process the data by reducing the dimensions. There are two types of pooling average pooling and max pooling. I’ve only had experience with Max Pooling so far I haven’t faced any difficulties.\n",
    "![image](Image/10.gif)\n",
    "- Max Pooling is we find the maximum value of a pixel from a portion of the images converd by the kernel. Max Pooling also performs as a Noise Suppressant. It discards the noisy activations altogether and also performs de-noising along with dimensionality reduction.\n",
    "- Average Pooling returns the average of all the values from the portion of the image covered by the Kernel. Average Pooling simply performs dimensionality reduction as a noise suppressing mechanism. Hence, we can say that Max Pooling performs a lot better than Average Pooling.\n",
    "![image](Image/11.jpg)"
   ]
  },
  {
   "cell_type": "markdown",
   "id": "0b84e9c6-7304-481b-a6ba-94ee9246f14c",
   "metadata": {},
   "source": [
    "### Disadvantages:\n",
    "- Since convolutional neural networks are typically used for image-classification, we are generally dealing with high-dimensional data (images). While the structure of a ConvNet aims to mitigate over-fitting, you generally need a large amount of data for a convolutional neural network to work effectively. Of course, the amount of data you need depends on the complexity of the task at hand.\n",
    "- Related to the first point, convolutional neural networks are probably overkill if the task at hand is very simple (i.e. how can we distinguish between white vs. black circles?). For very simple tasks, you are better off doing basic processing on OpenCV since it’s more quicker / efficient.\n",
    "- It takes a very long time to train a convolutional neural network, especially with large datasets. You generally need specialized hardware (like a GPU) to expedite the training process.\n",
    "- While CNNs are translation-invariant, they are generally bad at handling rotation and scale-invariance without explicit data augmentation.\n",
    "\n",
    "### Advantages:\n",
    "\n",
    "- CNN models are the golden standard for computer vision tasks since it does the feature extraction process for you. In the older days of computer vision, researchers used to manually extract features and implement classical ML algorithms (i.e. a simpler neural net, SVM) to do image classification tasks. However, CNN models generally perform superior compared to the manual extraction process (it’s end-to-end). There is research article online that discusses this topic in more detail here\n",
    "\n",
    "![image](Image/12.png)"
   ]
  }
 ],
 "metadata": {
  "kernelspec": {
   "display_name": "Python 3 (ipykernel)",
   "language": "python",
   "name": "python3"
  },
  "language_info": {
   "codemirror_mode": {
    "name": "ipython",
    "version": 3
   },
   "file_extension": ".py",
   "mimetype": "text/x-python",
   "name": "python",
   "nbconvert_exporter": "python",
   "pygments_lexer": "ipython3",
   "version": "3.8.10"
  }
 },
 "nbformat": 4,
 "nbformat_minor": 5
}
