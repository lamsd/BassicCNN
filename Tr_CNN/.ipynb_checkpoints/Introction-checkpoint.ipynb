{
 "cells": [
  {
   "cell_type": "markdown",
   "id": "c20f7667-851d-4038-8be9-c1d0e76365f7",
   "metadata": {},
   "source": [
    "# A Gentle Introduction to Transfer Learning for Deep Learning\n"
   ]
  },
  {
   "cell_type": "markdown",
   "id": "0821f283-37af-47e4-9ddc-75451ed99c31",
   "metadata": {},
   "source": [
    "Transfer learning is a machine learning  method where a model developed for a task is reused as the starting point for a model on a second task.\n",
    "\n",
    "The transfer learning to speed up training and improve the performance of your deep learning model.\n",
    "\n",
    "After reading this post, you will know:\n",
    "\n",
    "- What transfer learning is and how to use it.\n",
    "- Common examples of transfer learning in deep learning.\n",
    "- When to use transfer learning on your own predictive modeling problems.\n",
    "\n",
    "This form of transfer learning used in deep learning is called inductive transfer. This is where the scope of possible models (model bias) is narrowed in a beneficial way by using a model fit on a different but related task.\n",
    "\n",
    "![image](Image/1.webp)"
   ]
  },
  {
   "cell_type": "markdown",
   "id": "4b92eab5-fd28-401e-9fa0-d329f99568d7",
   "metadata": {},
   "source": [
    "## How to Use Transfer Learning?\n",
    "\n",
    "You can use transfer learning on your own [predictive modeling](https://machinelearningmastery.com/gentle-introduction-to-predictive-modeling/) problems.\n",
    "\n",
    "Two common approaches are as follows:\n",
    "\n",
    "1. Develop Model Approach\n",
    "2. Pre-trained Model Approach\n"
   ]
  },
  {
   "cell_type": "markdown",
   "id": "a9abb44d-c8fa-4796-80ca-0ad39f14683d",
   "metadata": {},
   "source": [
    "### Develop Model Approach\n",
    "\n",
    "1. **Select Source Task**. You must select a related predictive modeling problem with an abundance of data where there is some relationship in the input data, output data, and/or concepts learned during the mapping from input to output data.\n",
    "2. **Develop Source Model**. Next, you must develop a skillful model for this first task. The model must be better than a naive model to ensure that some feature learning has been performed.\n",
    "3. **Reuse Model**. The model fit on the source task can then be used as the starting point for a model on the second task of interest. This may involve using all or parts of the model, depending on the modeling technique used.\n",
    "4. **Tune Model**. Optionally, the model may need to be adapted or refined on the input-output pair data available for the task of interest.\n",
    "\n",
    "### Pre-trained Model Approach\n",
    "\n",
    "1. **Select Source Model**. A pre-trained source model is chosen from available models. Many research institutions release models on large and challenging datasets that may be included in the pool of candidate models from which to choose from.\n",
    "2. **Reuse Model**. The model pre-trained model can then be used as the starting point for a model on the second task of interest. This may involve using all or parts of the model, depending on the modeling technique used.\n",
    "3. **Tune Model**. Optionally, the model may need to be adapted or refined on the input-output pair data available for the task of interest.\n",
    "\n"
   ]
  },
  {
   "cell_type": "markdown",
   "id": "4c745246-7fd7-4a28-a943-ad32a348d3dc",
   "metadata": {},
   "source": [
    "## Examples of Transfer Learning with Deep Learning\n",
    "### Transfer Learning with Image Data\n",
    "\n",
    "It is common to perform transfer learning with predictive modeling problems that use image data as input.\n",
    "\n",
    "This may be a prediction task that takes photographs or video data as input.\n",
    "\n",
    "For these types of problems, it is common to use a deep learning model pre-trained for a large and challenging image classification task such as the [ImageNet](https://image-net.org/index.php) 1000-class photograph classification competition.\n",
    "\n",
    "The research organizations that develop models for this competition and do well often release their final model under a permissive license for reuse. These models can take days or weeks to train on modern hardware.\n",
    "\n",
    "These models can be downloaded and incorporated directly into new models that expect image data as input.\n",
    "\n",
    "Three examples of models of this type include:\n",
    "\n",
    "- [Oxford VGG Model](http://www.robots.ox.ac.uk/~vgg/research/very_deep/)\n",
    "- [Google Inception Model](https://github.com/tensorflow/models/tree/master/research/inception)\n",
    "- [Microsoft ResNet Model](https://github.com/KaimingHe/deep-residual-networks)\n",
    "\n",
    "For more examples, see the [Caffe Model Zoo](https://github.com/BVLC/caffe/wiki/Model-Zoo) where more pre-trained models are shared.\n",
    "\n",
    "This approach is effective because the images were trained on a large corpus of photographs and require the model to make predictions on a relatively large number of classes, in turn, requiring that the model efficiently learn to extract features from photographs in order to perform well on the problem.\n",
    "\n",
    "### Transfer Learning with Language Data\n",
    "\n",
    "It is common to perform transfer learning with natural language processing problems that use text as input or output.\n",
    "\n",
    "For these types of problems, a word embedding is used that is a mapping of words to a high-dimensional continuous vector space where different words with a similar meaning have a similar vector representation.\n",
    "\n",
    "Efficient algorithms exist to learn these distributed word representations and it is common for research organizations to release pre-trained models trained on very large corpa of text documents under a permissive license.\n",
    "\n",
    "Two examples of models of this type include:\n",
    "\n",
    "- [Google’s word2vec Model](https://code.google.com/archive/p/word2vec/)\n",
    "- [Stanford’s GloVe Model](https://nlp.stanford.edu/projects/glove/)\n",
    "\n",
    "These distributed word representation models can be downloaded and incorporated into deep learning language models in either the interpretation of words as input or the generation of words as output from the model."
   ]
  },
  {
   "cell_type": "markdown",
   "id": "a25cd0df-fef5-49ce-987b-57f229a8b4a9",
   "metadata": {},
   "source": [
    "## When to Use Transfer Learning?\n",
    "\n",
    "Transfer learning is an optimization, a shortcut to saving time or getting better performance.\n",
    "\n",
    "In general, it is not obvious that there will be a benefit to using transfer learning in the domain until after the model has been developed and evaluated.\n",
    "\n",
    "Lisa Torrey and Jude Shavlik in their [chapter on transfer learning](https://amzn.to/2fgeVro) describe three possible benefits to look for when using transfer learning:\n",
    "- Higher start. The initial skill (before refining the model) on the source model is higher than it otherwise would be.\n",
    "- Higher slope. The rate of improvement of skill during training of the source model is steeper than it otherwise would be.\n",
    "- Higher asymptote. The converged skill of the trained model is better than it otherwise would be.\n",
    "![Image](Image/2.png)\n",
    "\n",
    "Ideally, you would see all three benefits from a successful application of transfer learning.\n",
    "\n",
    "It is an approach to try if you can identify a related task with abundant data and you have the resources to develop a model for that task and reuse it on your own problem, or there is a pre-trained model available that you can use as a starting point for your own model.\n",
    "\n",
    "On some problems where you may not have very much data, transfer learning can enable you to develop skillful models that you simply could not develop in the absence of transfer learning.\n",
    "\n",
    "The choice of source data or source model is an open problem and may require domain expertise and/or intuition developed via experience."
   ]
  },
  {
   "cell_type": "markdown",
   "id": "44274280-deaa-495d-ab3c-41cfcd0fa041",
   "metadata": {},
   "source": [
    "### Tutorials\n",
    "\n",
    "- [How to Use Transfer Learning when Developing Convolutional Neural Network Models](https://machinelearningmastery.com/how-to-use-transfer-learning-when-developing-convolutional-neural-network-models/)\n",
    "- [How to Use The Pre-Trained VGG Model to Classify Objects in Photographs](https://machinelearningmastery.com/use-pre-trained-vgg-model-classify-objects-photographs/)\n",
    "- [How to Improve Performance With Transfer Learning for Deep Learning Neural Networks](https://machinelearningmastery.com/how-to-improve-performance-with-transfer-learning-for-deep-learning-neural-networks/)\n",
    "\n",
    "### Books\n",
    "\n",
    "- [Deep Learning, 2016.](https://amzn.to/2fwdoKR)\n",
    "- [Neural Network Methods in Natural Language Processing, 2017.](https://amzn.to/2fwTPCn)\n",
    "\n",
    "### Papers\n",
    "\n",
    "- [A survey on transfer learning, 2010.](https://pdfs.semanticscholar.org/a25f/bcbbae1e8f79c4360d26aa11a3abf1a11972.pdf)\n",
    "- [Chapter 11: Transfer Learning](ftp://ftp.cs.wisc.edu/machine-learning/shavlik-group/torrey.handbook09.pdf), [Handbook of Research on Machine Learning Applications, 2009.](https://amzn.to/2fgeVro)\n",
    "- [How transferable are features in deep neural networks?](https://arxiv.org/abs/1411.1792)\n",
    "\n",
    "### Pre-trained Models\n",
    "\n",
    "- Oxford VGG Model\n",
    "- Google Inception Model\n",
    "- Microsoft ResNet Model\n",
    "- Google’s word2vec Model\n",
    "- Stanford’s GloVe Model\n",
    "- Caffe Model Zoo\n",
    "\n",
    "### Articles\n",
    "\n",
    "- [Transfer learning on Wikipedia](https://en.wikipedia.org/wiki/Transfer_learning)\n",
    "- [Transfer Learning – Machine Learning’s Next Frontier, 2017.](http://ruder.io/transfer-learning/)\n",
    "- [Transfer Learning, CS231n Convolutional Neural Networks for Visual Recognition](https://cs231n.github.io/transfer-learning/)\n",
    "- [How does transfer learning work? on Quora](https://www.quora.com/How-does-transfer-learning-work)\n"
   ]
  },
  {
   "cell_type": "code",
   "execution_count": null,
   "id": "cde4297d-b0da-448b-b365-4df59f9f043f",
   "metadata": {},
   "outputs": [],
   "source": []
  }
 ],
 "metadata": {
  "kernelspec": {
   "display_name": "Python 3 (ipykernel)",
   "language": "python",
   "name": "python3"
  },
  "language_info": {
   "codemirror_mode": {
    "name": "ipython",
    "version": 3
   },
   "file_extension": ".py",
   "mimetype": "text/x-python",
   "name": "python",
   "nbconvert_exporter": "python",
   "pygments_lexer": "ipython3",
   "version": "3.8.10"
  }
 },
 "nbformat": 4,
 "nbformat_minor": 5
}
